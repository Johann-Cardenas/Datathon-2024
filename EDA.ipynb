{
 "cells": [
  {
   "cell_type": "code",
   "execution_count": 2,
   "metadata": {},
   "outputs": [],
   "source": [
    "import pandas as pd\n",
    "import numpy as np\n",
    "\n",
    "def read_files():\n",
    "    files = ['dataset/file_3_Mar18_Output_1_1.csv', \n",
    "             'dataset/file_3_Mar18_Output_1_2.csv', \n",
    "             'dataset/file_3_Mar18_Output_1_3.csv', \n",
    "             'dataset/file_3_Mar18_Output_1_4.csv', \n",
    "             'dataset/file_3_Mar18_Output_1_5.csv', \n",
    "             'dataset/file_3_Mar18_Output_1_6.csv', \n",
    "             'dataset/file_4_Mar18_Output_1_1.csv', \n",
    "             'dataset/file_4_Mar18_Output_1_2.csv', \n",
    "             'dataset/file_4_Mar18_Output_1_3.csv', \n",
    "             'dataset/file_4_Mar18_Output_1_4.csv', \n",
    "             'dataset/file_4_Mar18_Output_1_5.csv', \n",
    "             'dataset/file_4_Mar18_Output_1_6.csv']\n",
    "    data = pd.DataFrame()\n",
    "    for file in files:\n",
    "        df = pd.read_csv(file)\n",
    "        data = pd.concat([data, df])\n",
    "    return data"
   ]
  },
  {
   "cell_type": "code",
   "execution_count": 3,
   "metadata": {},
   "outputs": [],
   "source": [
    "data = read_files()"
   ]
  },
  {
   "cell_type": "code",
   "execution_count": 5,
   "metadata": {},
   "outputs": [
    {
     "name": "stdout",
     "output_type": "stream",
     "text": [
      "      timestamp_call_key retailer_code       serial reason  \\\n",
      "0  240315173250 DAL1OA3M             D  10010009499     PP   \n",
      "1  240315124742 DAL15XHK             E  10006021998     BA   \n",
      "2  240317114237 DAL3BLK6             J  10016007830     PT   \n",
      "3  240314120849 PHX6PL4U             E  10008003199     BA   \n",
      "4  240314145902 DAL68RYS             I  10013002037     BA   \n",
      "\n",
      "                    mos  resolved  no_of_accounts_with_syf_13_march  \\\n",
      "0              IA PP TR  resolved                               1.0   \n",
      "1        IA BA TS nl TR     floor                               2.0   \n",
      "2  IA AA BA MR nl PT TR  resolved                              12.0   \n",
      "3                 IA BA  resolved                               2.0   \n",
      "4     IA BA TS nl mm TR     floor                               6.0   \n",
      "\n",
      "   account_balance_13_march delinquency_history_13_march  \\\n",
      "0                       NaN                         [00]   \n",
      "1                    143.28                         [00]   \n",
      "2                      0.00                         [00]   \n",
      "3                     44.98                         [00]   \n",
      "4                      7.00                         [00]   \n",
      "\n",
      "  account_open_date_13_march  ... auto_pay_enrolled_status_13_march  \\\n",
      "0                  5/19/2013  ...                                 0   \n",
      "1                  9/22/2003  ...                                 0   \n",
      "2                   9/4/2017  ...                                 0   \n",
      "3                   2/7/2024  ...                                 0   \n",
      "4                   1/2/2022  ...                                 0   \n",
      "\n",
      "  no_of_accounts_with_syf_18_march  account_balance_18_march  \\\n",
      "0                              1.0                       NaN   \n",
      "1                              2.0                    143.28   \n",
      "2                             12.0                      0.00   \n",
      "3                              2.0                     -6.32   \n",
      "4                              6.0                      7.00   \n",
      "\n",
      "  delinquency_history_18_march  account_open_date_18_march  \\\n",
      "0                         [00]                   5/19/2013   \n",
      "1                         [00]                   9/22/2003   \n",
      "2                         [00]                    9/4/2017   \n",
      "3                         [00]                    2/7/2024   \n",
      "4                         [00]                    1/2/2022   \n",
      "\n",
      "   account_status_18_march  card_activation_status_18_march  \\\n",
      "0                      NaN                                0   \n",
      "1                      NaN                                0   \n",
      "2                      NaN                                8   \n",
      "3                      NaN                                0   \n",
      "4                      NaN                                0   \n",
      "\n",
      "  eservice_ind_18_march ebill_enrolled_status_18_march  \\\n",
      "0                     1                              E   \n",
      "1                     1                              E   \n",
      "2                     0                                  \n",
      "3                     0                              L   \n",
      "4                     1                                  \n",
      "\n",
      "  auto_pay_enrolled_status_18_march  \n",
      "0                                 0  \n",
      "1                                 0  \n",
      "2                                 0  \n",
      "3                                 0  \n",
      "4                                 0  \n",
      "\n",
      "[5 rows x 24 columns]\n"
     ]
    }
   ],
   "source": [
    "print(data.head(5))"
   ]
  },
  {
   "cell_type": "code",
   "execution_count": null,
   "metadata": {},
   "outputs": [],
   "source": []
  }
 ],
 "metadata": {
  "kernelspec": {
   "display_name": "alfa",
   "language": "python",
   "name": "python3"
  },
  "language_info": {
   "codemirror_mode": {
    "name": "ipython",
    "version": 3
   },
   "file_extension": ".py",
   "mimetype": "text/x-python",
   "name": "python",
   "nbconvert_exporter": "python",
   "pygments_lexer": "ipython3",
   "version": "3.7.12"
  }
 },
 "nbformat": 4,
 "nbformat_minor": 2
}

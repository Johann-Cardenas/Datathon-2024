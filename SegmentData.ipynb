{
 "cells": [
  {
   "cell_type": "code",
   "execution_count": 1,
   "metadata": {},
   "outputs": [
    {
     "name": "stdout",
     "output_type": "stream",
     "text": [
      "(904633, 24)\n"
     ]
    }
   ],
   "source": [
    "import pandas as pd\n",
    "import numpy as np\n",
    "\n",
    "df = pd.read_csv('dataset/file_3_Mar18_Output_1.csv')\n",
    "print(df.shape)"
   ]
  },
  {
   "cell_type": "code",
   "execution_count": null,
   "metadata": {},
   "outputs": [],
   "source": [
    "df1 = df.iloc[:150000]\n",
    "df2 = df.iloc[150000:300000]\n",
    "df3 = df.iloc[300000:450000]\n",
    "df4 = df.iloc[450000:600000]\n",
    "df5 = df.iloc[600000:750000]\n",
    "df6 = df.iloc[750000:]\n",
    "\n",
    "# save the df in new excel files\n",
    "df1.to_csv('file_3_Mar18_Output_1_1.csv', index=False)\n",
    "df2.to_csv('file_3_Mar18_Output_1_2.csv', index=False)\n",
    "df3.to_csv('file_3_Mar18_Output_1_3.csv', index=False)\n",
    "df4.to_csv('file_3_Mar18_Output_1_4.csv', index=False)\n",
    "df5.to_csv('file_3_Mar18_Output_1_5.csv', index=False)\n",
    "df6.to_csv('file_3_Mar18_Output_1_6.csv', index=False)"
   ]
  },
  {
   "cell_type": "code",
   "execution_count": 2,
   "metadata": {},
   "outputs": [
    {
     "name": "stdout",
     "output_type": "stream",
     "text": [
      "(894165, 24)\n"
     ]
    }
   ],
   "source": [
    "df = pd.read_csv('dataset/file_4_Mar18_Output_1.csv')\n",
    "print(df.shape)"
   ]
  },
  {
   "cell_type": "code",
   "execution_count": 4,
   "metadata": {},
   "outputs": [
    {
     "name": "stdout",
     "output_type": "stream",
     "text": [
      "(894165, 24)\n"
     ]
    }
   ],
   "source": [
    "df1 = df.iloc[:150000]\n",
    "df2 = df.iloc[150000:300000]\n",
    "df3 = df.iloc[300000:450000]\n",
    "df4 = df.iloc[450000:600000]\n",
    "df5 = df.iloc[600000:750000]\n",
    "df6 = df.iloc[750000:]\n",
    "\n",
    "# save the df in new excel files\n",
    "df1.to_csv('file_4_Mar18_Output_1_1.csv', index=False)\n",
    "df2.to_csv('file_4_Mar18_Output_1_2.csv', index=False)\n",
    "df3.to_csv('file_4_Mar18_Output_1_3.csv', index=False)\n",
    "df4.to_csv('file_4_Mar18_Output_1_4.csv', index=False)\n",
    "df5.to_csv('file_4_Mar18_Output_1_5.csv', index=False)\n",
    "df6.to_csv('file_4_Mar18_Output_1_6.csv', index=False)"
   ]
  },
  {
   "cell_type": "code",
   "execution_count": null,
   "metadata": {},
   "outputs": [],
   "source": []
  }
 ],
 "metadata": {
  "kernelspec": {
   "display_name": "alfa",
   "language": "python",
   "name": "python3"
  },
  "language_info": {
   "codemirror_mode": {
    "name": "ipython",
    "version": 3
   },
   "file_extension": ".py",
   "mimetype": "text/x-python",
   "name": "python",
   "nbconvert_exporter": "python",
   "pygments_lexer": "ipython3",
   "version": "3.7.12"
  }
 },
 "nbformat": 4,
 "nbformat_minor": 2
}
